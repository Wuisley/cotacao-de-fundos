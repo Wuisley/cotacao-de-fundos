{
 "cells": [
  {
   "cell_type": "code",
   "execution_count": 1,
   "metadata": {},
   "outputs": [],
   "source": [
    "#improtando bibliotecas\n",
    "import pandas as pd\n",
    "import requests\n",
    "import zipfile\n",
    "import os\n",
    "import csv\n",
    "import psutil\n",
    "from datetime import datetime, timedelta"
   ]
  },
  {
   "cell_type": "code",
   "execution_count": 2,
   "metadata": {},
   "outputs": [],
   "source": [
    "dia_inicial = 1\n",
    "mes_formatado_inicial = 10\n",
    "ano_inicial = 2021\n",
    "\n",
    "\n",
    "dia_final = 1\n",
    "mes_formatado_final = 12\n",
    "ano_final = 2021"
   ]
  },
  {
   "cell_type": "code",
   "execution_count": 3,
   "metadata": {},
   "outputs": [
    {
     "data": {
      "text/plain": [
       "\"mes_formatado = '05'\\nano = '2023\""
      ]
     },
     "execution_count": 3,
     "metadata": {},
     "output_type": "execute_result"
    }
   ],
   "source": [
    "'''mes_formatado = '05'\n",
    "ano = '2023'''"
   ]
  },
  {
   "cell_type": "code",
   "execution_count": 4,
   "metadata": {},
   "outputs": [
    {
     "data": {
      "text/plain": [
       "'\\ndia_inicial = int(input(\\'Qual é o dia inicial?\\'))\\n\\nmes_inicial = int(input(\\'Qual é o mês inicial?\\'))\\n\\nif mes_inicial < 10:\\n    mes_formatado = \"{:02d}\".format(mes_inicial)\\n    type(mes_formatado)\\nelse:\\n    mes_formatado_inicial = str(mes_inicial)\\n\\nano_inicial = str(input(\\'Qual é o ano inicial?\\'))\\n\\n\\n'"
      ]
     },
     "execution_count": 4,
     "metadata": {},
     "output_type": "execute_result"
    }
   ],
   "source": [
    "#extraindo o data inicial\n",
    "'''\n",
    "dia_inicial = int(input('Qual é o dia inicial?'))\n",
    "\n",
    "mes_inicial = int(input('Qual é o mês inicial?'))\n",
    "\n",
    "if mes_inicial < 10:\n",
    "    mes_formatado = \"{:02d}\".format(mes_inicial)\n",
    "    type(mes_formatado)\n",
    "else:\n",
    "    mes_formatado_inicial = str(mes_inicial)\n",
    "\n",
    "ano_inicial = str(input('Qual é o ano inicial?'))\n",
    "\n",
    "\n",
    "'''"
   ]
  },
  {
   "cell_type": "code",
   "execution_count": 5,
   "metadata": {},
   "outputs": [
    {
     "data": {
      "text/plain": [
       "'\\ndia_final = int(input(\\'Qual é o dia final?\\'))\\n\\nmes_final = int(input(\\'Qual é o mês final?\\'))\\n\\nif mes_final < 10:\\n    mes_formatado = \"{:02d}\".format(mes_final)\\n    type(mes_formatado)\\nelse:\\n    mes_formatado_final = str(mes_final)\\n\\n\\nano_final = str(input(\\'Qual é o ano final?\\'))'"
      ]
     },
     "execution_count": 5,
     "metadata": {},
     "output_type": "execute_result"
    }
   ],
   "source": [
    "# extraindo data final\n",
    "'''\n",
    "dia_final = int(input('Qual é o dia final?'))\n",
    "\n",
    "mes_final = int(input('Qual é o mês final?'))\n",
    "\n",
    "if mes_final < 10:\n",
    "    mes_formatado = \"{:02d}\".format(mes_final)\n",
    "    type(mes_formatado)\n",
    "else:\n",
    "    mes_formatado_final = str(mes_final)\n",
    "\n",
    "\n",
    "ano_final = str(input('Qual é o ano final?'))'''"
   ]
  },
  {
   "cell_type": "code",
   "execution_count": 6,
   "metadata": {},
   "outputs": [
    {
     "name": "stdout",
     "output_type": "stream",
     "text": [
      "[10, 11, 12]\n",
      "[2021, 2021, 2021]\n"
     ]
    }
   ],
   "source": [
    "# Definindo a data inicial e final do intervalo\n",
    "data_inicial = datetime(ano_inicial, mes_formatado_inicial, dia_inicial)\n",
    "data_final = datetime(ano_final, mes_formatado_final, dia_final)\n",
    "\n",
    "# Criando listas vazias para armazenar os números dos meses e dos anos\n",
    "meses = []\n",
    "anos = []\n",
    "\n",
    "# Adicionando os meses e os anos às listas\n",
    "data_atual = data_inicial\n",
    "\n",
    "while data_atual <= data_final:\n",
    "    meses.append(data_atual.month)\n",
    "    anos.append(data_atual.year)\n",
    "    # Avance para o próximo mês\n",
    "    if data_atual.month == 12:\n",
    "        data_atual = data_atual.replace(year=data_atual.year + 1, month=1)\n",
    "    else:\n",
    "        data_atual = data_atual.replace(month=data_atual.month + 1)\n",
    "\n",
    "# Exibindo as listas de meses e anos\n",
    "\n",
    "print(meses)\n",
    "print(anos)"
   ]
  },
  {
   "cell_type": "code",
   "execution_count": 7,
   "metadata": {},
   "outputs": [
    {
     "name": "stdout",
     "output_type": "stream",
     "text": [
      "202110\n",
      "202111\n",
      "202112\n"
     ]
    }
   ],
   "source": [
    "# Listando todas as urls para download\n",
    "urls = []\n",
    "\n",
    "for ano, mes in zip(anos, meses):\n",
    "    # Fazendo as urls utilizando o ano e o mês do intervalo\n",
    "    url = f'https://dados.cvm.gov.br/dados/FI/DOC/INF_DIARIO/DADOS/inf_diario_fi_{ano}{mes}.zip'\n",
    "    print(str(ano)+str(mes))\n",
    "    # Adicionando a URL à lista de URLs\n",
    "    urls.append(url)"
   ]
  },
  {
   "cell_type": "code",
   "execution_count": 8,
   "metadata": {},
   "outputs": [
    {
     "data": {
      "text/plain": [
       "['https://dados.cvm.gov.br/dados/FI/DOC/INF_DIARIO/DADOS/inf_diario_fi_202110.zip',\n",
       " 'https://dados.cvm.gov.br/dados/FI/DOC/INF_DIARIO/DADOS/inf_diario_fi_202111.zip',\n",
       " 'https://dados.cvm.gov.br/dados/FI/DOC/INF_DIARIO/DADOS/inf_diario_fi_202112.zip']"
      ]
     },
     "execution_count": 8,
     "metadata": {},
     "output_type": "execute_result"
    }
   ],
   "source": [
    "urls"
   ]
  },
  {
   "cell_type": "code",
   "execution_count": 9,
   "metadata": {},
   "outputs": [
    {
     "data": {
      "text/plain": [
       "'meses = str(meses)\\nanos = str(anos)'"
      ]
     },
     "execution_count": 9,
     "metadata": {},
     "output_type": "execute_result"
    }
   ],
   "source": [
    "'''meses = str(meses)\n",
    "anos = str(anos)'''"
   ]
  },
  {
   "cell_type": "code",
   "execution_count": 10,
   "metadata": {},
   "outputs": [],
   "source": [
    "for url in urls:\n",
    "    # Obtenha o nome do arquivo da URL\n",
    "    nome_arquivo = url.split('/')[-1]\n",
    "    \n",
    "    # Faça o download do arquivo\n",
    "    download = requests.get(url)\n",
    "    \n",
    "    # Salve o conteúdo do download em um arquivo\n",
    "    with open(nome_arquivo, 'wb') as arquivo_cvm:\n",
    "        arquivo_cvm.write(download.content)"
   ]
  },
  {
   "cell_type": "code",
   "execution_count": 13,
   "metadata": {},
   "outputs": [
    {
     "name": "stdout",
     "output_type": "stream",
     "text": [
      "['inf_diario_fi_202110.zip', 'inf_diario_fi_202111.zip', 'inf_diario_fi_202112.zip']\n"
     ]
    }
   ],
   "source": [
    "# Fazendo as lista com nome de cada arquivo\n",
    "arquivos = [os.path.basename(url) for url in urls]\n",
    "print(arquivos)"
   ]
  },
  {
   "cell_type": "code",
   "execution_count": 12,
   "metadata": {},
   "outputs": [],
   "source": [
    "zips = []\n",
    "\n",
    "for url in urls:\n",
    "    # Obtendo o nome do arquivo da URL\n",
    "    nome_arquivo = url.split('/')[-1]\n",
    "    \n",
    "    # Fazendo o download do arquivo\n",
    "    download = requests.get(url)\n",
    "    \n",
    "    # Salvando o conteúdo do download em um arquivo\n",
    "    with open(nome_arquivo, 'wb') as arquivo_cvm:\n",
    "        arquivo_cvm.write(download.content)\n",
    "        zip = (f\"inf_diario_fi_{ano}{mes}.zip\")\n",
    "        zips.append(zip)"
   ]
  },
  {
   "attachments": {},
   "cell_type": "markdown",
   "metadata": {},
   "source": [
    "------------------- ATÉ AQUI TÁ OK -------------------------------"
   ]
  },
  {
   "cell_type": "code",
   "execution_count": null,
   "metadata": {},
   "outputs": [],
   "source": [
    "for zip in zips:\n",
    "    arquivo_zip = zipfile.ZipFile(zip)\n",
    "    df = pd.read_csv(arquivo_zip.open(arquivo_zip.namelist()[0]), sep = \";\", encoding = 'ISO-8859-1')"
   ]
  },
  {
   "cell_type": "code",
   "execution_count": null,
   "metadata": {},
   "outputs": [],
   "source": [
    "arquivo_zip = zipfile.ZipFile(zip)\n",
    "df = pd.read_csv(arquivo_zip.open(arquivo_zip.namelist()[0]), sep = \";\", encoding = 'ISO-8859-1')"
   ]
  },
  {
   "cell_type": "code",
   "execution_count": null,
   "metadata": {},
   "outputs": [],
   "source": [
    "df"
   ]
  },
  {
   "cell_type": "code",
   "execution_count": null,
   "metadata": {},
   "outputs": [],
   "source": [
    "df = pd.DataFrame({'Coluna1': 'TP_FUNDO', \n",
    "                   'Coluna2': 'CNPJ_FUNDO', \n",
    "                   'Coluna3': 'DT_COMPTC', \n",
    "                   'Coluna4': 'VL_TOTAL',\n",
    "                   'Coluna5': 'VL_QUOTA',\n",
    "                   'Coluna6': 'VL_PATRIM_LIQ',\n",
    "                   'Coluna7': 'CAPTC_DIA',\n",
    "                   'Coluna8': 'RESG_DIA',\n",
    "                   'Coluna9': 'NR_COTST'})"
   ]
  },
  {
   "cell_type": "code",
   "execution_count": null,
   "metadata": {},
   "outputs": [],
   "source": [
    "dfs"
   ]
  },
  {
   "cell_type": "code",
   "execution_count": null,
   "metadata": {},
   "outputs": [],
   "source": [
    "for ano, mes in zip(anos, meses):\n",
    "    arquivo_zip = zipfile.ZipFile(f\"inf_diario_fi_{ano}{mes}.zip\")\n",
    "    df = pd.read_csv(arquivo_zip.open(arquivo_zip.namelist()[0]), sep = \";\", encoding = 'ISO-8859-1')\n",
    "    df.append(n)"
   ]
  },
  {
   "cell_type": "code",
   "execution_count": 11,
   "metadata": {},
   "outputs": [
    {
     "ename": "NameError",
     "evalue": "name 'arquivo_zip' is not defined",
     "output_type": "error",
     "traceback": [
      "\u001b[1;31m---------------------------------------------------------------------------\u001b[0m",
      "\u001b[1;31mNameError\u001b[0m                                 Traceback (most recent call last)",
      "\u001b[1;32me:\\Curso Analista de Dados EBAC\\Nova pasta\\cotação de fundos(anual).ipynb Cell 19\u001b[0m in \u001b[0;36m1\n\u001b[1;32m----> <a href='vscode-notebook-cell:/e%3A/Curso%20Analista%20de%20Dados%20EBAC/Nova%20pasta/cota%C3%A7%C3%A3o%20de%20fundos%28anual%29.ipynb#X20sZmlsZQ%3D%3D?line=0'>1</a>\u001b[0m arquivo_zip\u001b[39m.\u001b[39mclose()\n",
      "\u001b[1;31mNameError\u001b[0m: name 'arquivo_zip' is not defined"
     ]
    }
   ],
   "source": [
    "arquivo_zip.close()"
   ]
  },
  {
   "cell_type": "code",
   "execution_count": null,
   "metadata": {},
   "outputs": [],
   "source": [
    "#gerando DF\n",
    "df = pd.read_csv(arquivo_zip.open(arquivo_zip.namelist()[0]), sep = \";\", encoding = 'ISO-8859-1')\n",
    "df"
   ]
  },
  {
   "cell_type": "code",
   "execution_count": null,
   "metadata": {},
   "outputs": [],
   "source": [
    "#lista de CNPJ desejados\n",
    "lista = pd.read_excel('CNPJ Fundos IPSEMC.xlsx')\n",
    "lista.head()"
   ]
  },
  {
   "cell_type": "code",
   "execution_count": null,
   "metadata": {},
   "outputs": [],
   "source": [
    "#procurando apenas os CNPJs da lista no df original\n",
    "df2 = []\n",
    "\n",
    "for i in lista['CNPJ']:\n",
    "    n = df[df['CNPJ_FUNDO'] == i]\n",
    "    df2.append(n)\n",
    "\n"
   ]
  },
  {
   "cell_type": "code",
   "execution_count": null,
   "metadata": {},
   "outputs": [],
   "source": [
    "#verificando se percorreu todos os CNPJ\n",
    "display(i)"
   ]
  },
  {
   "cell_type": "code",
   "execution_count": null,
   "metadata": {},
   "outputs": [],
   "source": [
    "#visualizando os resultado\n",
    "display(df2)"
   ]
  },
  {
   "cell_type": "code",
   "execution_count": null,
   "metadata": {},
   "outputs": [],
   "source": [
    "#Combinando os DataFrames em um único DataFrame\n",
    "df_concat = pd.concat(df2)"
   ]
  },
  {
   "cell_type": "code",
   "execution_count": null,
   "metadata": {},
   "outputs": [],
   "source": [
    "#retirando colunas que nã há interesse\n",
    "df_concat = df_concat.drop(['TP_FUNDO','VL_TOTAL', 'CAPTC_DIA', 'RESG_DIA', 'NR_COTST'], axis =1)\n",
    "df_concat"
   ]
  },
  {
   "cell_type": "code",
   "execution_count": null,
   "metadata": {},
   "outputs": [],
   "source": [
    "#pegando coluna dons CNPJs sem repetição\n",
    "t1 = pd.DataFrame(columns=df_concat['CNPJ_FUNDO'].unique())\n",
    "\n",
    "#pegando datas sem repetição\n",
    "d2= pd.DataFrame(df_concat['DT_COMPTC'].unique())\n",
    "d2.columns = [None]\n",
    "d2"
   ]
  },
  {
   "cell_type": "code",
   "execution_count": null,
   "metadata": {},
   "outputs": [],
   "source": [
    "#concatenando dfs\n",
    "d3 = pd.concat([d2, t1])\n",
    "\n",
    "\n",
    "d3 = d3.set_index(None)\n",
    "d3.head()"
   ]
  },
  {
   "cell_type": "code",
   "execution_count": null,
   "metadata": {},
   "outputs": [],
   "source": [
    "len(df['CNPJ_FUNDO'] )"
   ]
  },
  {
   "cell_type": "code",
   "execution_count": null,
   "metadata": {},
   "outputs": [],
   "source": [
    "len(df['VL_QUOTA'] )"
   ]
  },
  {
   "cell_type": "code",
   "execution_count": null,
   "metadata": {},
   "outputs": [],
   "source": [
    "#preenchendo com os valores das quotas\n",
    "for d in d3.columns:\n",
    "    try:\n",
    "        d3[d] = df[df['CNPJ_FUNDO'] == d]['VL_QUOTA'].T.to_list()\n",
    "    except:\n",
    "        continue\n",
    "        #print((df[df['CNPJ_FUNDO'] == d]))\n",
    "        \n",
    "d3.shape"
   ]
  },
  {
   "cell_type": "code",
   "execution_count": null,
   "metadata": {},
   "outputs": [],
   "source": [
    "#juntado os DF\n",
    "d4 = pd.concat([t1, d2])\n",
    "d4 = d4.set_index(None)\n",
    "\n",
    "#preenchendo com os valores dos patrimônios dos fundos\n",
    "for d in d4.columns:\n",
    "    try:\n",
    "        d4[d] = df[df['CNPJ_FUNDO'] == d]['VL_PATRIM_LIQ'].T.to_list()\n",
    "    except:\n",
    "        continue\n",
    "d4.head()"
   ]
  },
  {
   "cell_type": "code",
   "execution_count": null,
   "metadata": {},
   "outputs": [],
   "source": [
    "#trocando ponto por vírgula\n",
    "for col in d3.columns:\n",
    "    d3[col] = d3[col].astype(str).str.replace('\\.', ',')\n",
    "\n",
    "for col in d4.columns:\n",
    "    d4[col] = d4[col].astype(str).str.replace('\\.', ',')"
   ]
  },
  {
   "cell_type": "code",
   "execution_count": null,
   "metadata": {},
   "outputs": [],
   "source": [
    "# Fechando o arquivo .zip\n",
    "arquivo_zip.close()"
   ]
  },
  {
   "cell_type": "code",
   "execution_count": null,
   "metadata": {},
   "outputs": [],
   "source": [
    "# Removendo arquivo .zip\n",
    "\n",
    "os.remove(f\"inf_diario_fi_{ano}{mes_formatado}.zip\")"
   ]
  },
  {
   "cell_type": "code",
   "execution_count": null,
   "metadata": {},
   "outputs": [],
   "source": [
    "#gerando csv\n",
    "d3.to_csv('arquivo valor quota '+ano+mes_formatado+'.csv', sep=\";\",index=True)\n",
    "\n",
    "d4.to_csv('arquivo valor PL '+ano+mes_formatado+'.csv', sep=\";\", index=True)"
   ]
  }
 ],
 "metadata": {
  "kernelspec": {
   "display_name": "Python 3.10.1 64-bit",
   "language": "python",
   "name": "python3"
  },
  "language_info": {
   "codemirror_mode": {
    "name": "ipython",
    "version": 3
   },
   "file_extension": ".py",
   "mimetype": "text/x-python",
   "name": "python",
   "nbconvert_exporter": "python",
   "pygments_lexer": "ipython3",
   "version": "3.11.1"
  },
  "orig_nbformat": 4,
  "vscode": {
   "interpreter": {
    "hash": "26de051ba29f2982a8de78e945f0abaf191376122a1563185a90213a26c5da77"
   }
  }
 },
 "nbformat": 4,
 "nbformat_minor": 2
}
